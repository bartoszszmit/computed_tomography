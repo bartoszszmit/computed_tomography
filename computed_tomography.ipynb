{
 "cells": [
  {
   "cell_type": "markdown",
   "metadata": {},
   "source": [
    "Informatyka w medycynie\n",
    "## Symulator tomografu komputerowego"
   ]
  },
  {
   "cell_type": "markdown",
   "metadata": {},
   "source": [
    "Wczytanie obrazu\n"
   ]
  },
  {
   "cell_type": "code",
   "execution_count": 3,
   "metadata": {},
   "outputs": [
    {
     "data": {
      "image/png": "[encoded data removed]",
      "text/plain": [
       "<Figure size 432x288 with 1 Axes>"
      ]
     },
     "metadata": {
      "needs_background": "light"
     },
     "output_type": "display_data"
    }
   ],
   "source": [
    "from matplotlib import pyplot as plt\n",
    "from skimage.color import rgb2gray\n",
    "from skimage import io\n",
    "\n",
    "picture = rgb2gray(io.imread(\"photos/Shepp_logan.jpg\"))\n",
    "plt.figure()\n",
    "plt.title(\"Zdjecie wejsciowe\")\n",
    "plt.imshow(picture, cmap='gray')\n",
    "plt.show()"
   ]
  },
  {
   "cell_type": "markdown",
   "metadata": {},
   "source": [
		"Algorytm Bresenhama:\n",
		"http://www.cs.put.poznan.pl/swilk/pmwiki/uploads/Dydaktyka/bresenham-int.pdf \n",
		"Funkcja zwraca listę współrzędnych pikseli, które znalazły się na drodze wiązki prowadzącej od emitera do detektora(ów). \n"
   ]
  },
  {
   "cell_type": "code",
   "execution_count": 4,
   "metadata": {},
   "outputs": [],
   "source": [
    "def bresenhamLine(x1, y1, x2, y2):\n",
    "\n",
    "    line = []\n",
    "    if (x1 <= x2):\n",
    "        xi = 1 \n",
    "    else:\n",
    "        xi = -1\n",
    "    if(y1 <= y2):\n",
    "        yi = 1\n",
    "    else:\n",
    "        yi = -1\n",
    "\n",
    "    dx = abs(x2 - x1)\n",
    "    dy = abs(y2 - y1)\n",
    "\n",
    "    x = x1\n",
    "    y = y1\n",
    "    line.append([int(x), int(y)])\n",
    "    if (dx >= dy):\n",
    "        ai = (dy-dx) * 2\n",
    "        bi = dy * 2\n",
    "        d = bi - dx\n",
    "        while(x != x2):\n",
    "            if(d >= 0):\n",
    "                x += xi\n",
    "                y += yi\n",
    "                d += ai\n",
    "            else:\n",
    "                d += bi\n",
    "                x += xi\n",
    "            line.append([int(x),int(y)])\n",
    "    else:\n",
    "        ai = (dx - dy) * 2\n",
    "        bi = dx *2\n",
    "        d = bi - dy\n",
    "        while( y != y2):\n",
    "            if(d >= 0):\n",
    "                x += xi\n",
    "                y +=yi\n",
    "                d += ai\n",
    "            else:\n",
    "                d += bi\n",
    "                y += yi\n",
    "            line.append([int(x),int(y)])\n",
    "            \n",
    "    return line"
   ]
  }
 ],
 "metadata": {
  "kernelspec": {
   "display_name": "Python 3",
   "language": "python",
   "name": "python3"
  },
  "language_info": {
   "codemirror_mode": {
    "name": "ipython",
    "version": 3
   },
   "file_extension": ".py",
   "mimetype": "text/x-python",
   "name": "python",
   "nbconvert_exporter": "python",
   "pygments_lexer": "ipython3",
   "version": "3.7.1"
  }
 },
 "nbformat": 4,
 "nbformat_minor": 2
}
